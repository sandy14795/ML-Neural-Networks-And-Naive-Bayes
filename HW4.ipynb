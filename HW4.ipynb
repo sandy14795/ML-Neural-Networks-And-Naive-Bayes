{
  "nbformat": 4,
  "nbformat_minor": 0,
  "metadata": {
    "colab": {
      "name": "HW4.ipynb",
      "provenance": [],
      "collapsed_sections": [
        "VEz5Xgp20Wuv",
        "lw2NbBgM0z6n"
      ],
      "toc_visible": true,
      "authorship_tag": "ABX9TyMxvm7O/dGeP/MoXb41PY1Q"
    },
    "kernelspec": {
      "name": "python3",
      "display_name": "Python 3"
    },
    "language_info": {
      "name": "python"
    }
  },
  "cells": [
    {
      "cell_type": "code",
      "metadata": {
        "colab": {
          "base_uri": "https://localhost:8080/"
        },
        "id": "ach_KMfjdYMG",
        "outputId": "efd3cb34-ce9e-4c21-b72d-c44a5f270dbb"
      },
      "source": [
        "from google.colab import drive\n",
        "#Mount Google Drive\n",
        "drive.mount(\"/content/drive\")\n",
        "base_path = './drive/MyDrive/Colab Notebooks/Data/ML/HW4/languageID/'"
      ],
      "execution_count": null,
      "outputs": [
        {
          "output_type": "stream",
          "name": "stdout",
          "text": [
            "Mounted at /content/drive\n"
          ]
        }
      ]
    },
    {
      "cell_type": "code",
      "metadata": {
        "id": "kwj4Qunrd-N0"
      },
      "source": [
        "import numpy as np\n",
        "import os\n",
        "from numpy import log as ln\n",
        "import pandas as pd\n",
        "from sklearn.metrics import confusion_matrix\n",
        "import math"
      ],
      "execution_count": null,
      "outputs": []
    },
    {
      "cell_type": "markdown",
      "metadata": {
        "id": "VEz5Xgp20Wuv"
      },
      "source": [
        "\n",
        "\n",
        "\n",
        "\n",
        "# Naive Bayes"
      ]
    },
    {
      "cell_type": "code",
      "metadata": {
        "id": "fxaFCYYiiAjx"
      },
      "source": [
        "\n",
        "def load_training_data(directory, training_label_count = 10):\n",
        "  files = os.listdir(directory)\n",
        "  train_data_set = []\n",
        "  for f in files:\n",
        "    if int(f.split('.')[0][1:]) < training_label_count:\n",
        "      bow = create_bow(directory + f)\n",
        "      train_data_set.append({'label' : f[0] , 'bow' : bow })\n",
        "\n",
        "  return train_data_set\n"
      ],
      "execution_count": null,
      "outputs": []
    },
    {
      "cell_type": "code",
      "metadata": {
        "id": "6SY_FGkumWFd"
      },
      "source": [
        "dataset = load_training_data(base_path)"
      ],
      "execution_count": null,
      "outputs": []
    },
    {
      "cell_type": "code",
      "metadata": {
        "id": "V7l-GaYnmn_V"
      },
      "source": [
        "dataset"
      ],
      "execution_count": null,
      "outputs": []
    },
    {
      "cell_type": "code",
      "metadata": {
        "id": "FtHUzUuNngyq"
      },
      "source": [
        "def create_bow(filepath):\n",
        "  bow = [0] * 27\n",
        "  with open(filepath, 'r') as f:\n",
        "    lines = f.readlines()\n",
        "    for line in lines:\n",
        "      word = line\n",
        "      chars = list(word)\n",
        "      for char in chars:\n",
        "        if char != '\\n':\n",
        "          if(ord(char)) == 32:\n",
        "            bow[-1] += 1\n",
        "          else:\n",
        "            bow[ord(char)-97] += 1\n",
        "                \n",
        "  return bow  "
      ],
      "execution_count": null,
      "outputs": []
    },
    {
      "cell_type": "code",
      "metadata": {
        "id": "mO6lYlC5o7ql"
      },
      "source": [
        "def prior(training_data, label_list):\n",
        "    \"\"\" return the prior probability of the label in the training set\n",
        "    \"\"\"\n",
        "\n",
        "    smooth = 0.5 # smoothing factor\n",
        "    priorprob = {}\n",
        "    total_files = len(training_data)\n",
        "    label_files = {} #count for each label\n",
        "    for label in label_list:\n",
        "      label_files[label] = 0\n",
        "      priorprob[label] = 0\n",
        "    \n",
        "    for data in training_data:\n",
        "      label_files[data['label']] += 1\n",
        "\n",
        "    for label in priorprob:\n",
        "      priorprob[label] = (label_files[label] + smooth)/(total_files + smooth * len(label_list))\n",
        "\n",
        "    return priorprob"
      ],
      "execution_count": null,
      "outputs": []
    },
    {
      "cell_type": "code",
      "metadata": {
        "colab": {
          "base_uri": "https://localhost:8080/"
        },
        "id": "StBWWBwgupfY",
        "outputId": "4052356d-0a43-40bf-cc70-a4ff0c3918e0"
      },
      "source": [
        "prior = prior(dataset, ['e', 'j', 's'])\n",
        "prior"
      ],
      "execution_count": null,
      "outputs": [
        {
          "output_type": "execute_result",
          "data": {
            "text/plain": [
              "{'e': 0.3333333333333333, 'j': 0.3333333333333333, 's': 0.3333333333333333}"
            ]
          },
          "metadata": {},
          "execution_count": 17
        }
      ]
    },
    {
      "cell_type": "code",
      "metadata": {
        "id": "s116i8m7wzB-"
      },
      "source": [
        "def p_char_given_label(training_data, label):\n",
        "  \"\"\" return the class conditional probability vector of label over all chars, with smoothing \"\"\"\n",
        "\n",
        "  smooth = 0.5 # smoothing factor\n",
        "  char_prob = [0] * 27\n",
        "\n",
        "  #count total chars per label including space\n",
        "  total_chars_per_label = 0\n",
        "  for files in training_data:\n",
        "    if files['label'] == label:\n",
        "      total_chars_per_label += sum(files['bow'])\n",
        "\n",
        "  #for all characters in character set\n",
        "  for c in range(27):\n",
        "    count_per_label = 0\n",
        "    for files in training_data:\n",
        "      if files['label'] == label:\n",
        "        count_per_label += files['bow'][c]\n",
        "      \n",
        "    char_prob[c] =  (count_per_label + smooth) / (total_chars_per_label + smooth * 27) \n",
        "\n",
        "  return char_prob"
      ],
      "execution_count": null,
      "outputs": []
    },
    {
      "cell_type": "code",
      "metadata": {
        "id": "GLw_9Sk70nZR"
      },
      "source": [
        "char_prob = {'s': p_char_given_label(dataset, 's'),\n",
        "              'e': p_char_given_label(dataset, 'e'),\n",
        "              'j': p_char_given_label(dataset, 'j') }\n",
        "\n",
        "char_prob"
      ],
      "execution_count": null,
      "outputs": []
    },
    {
      "cell_type": "code",
      "metadata": {
        "id": "KykDsXNJ2Y_Z"
      },
      "source": [
        "test_bow = create_bow(filepath= base_path + 'e10.txt')\n",
        "test_bow"
      ],
      "execution_count": null,
      "outputs": []
    },
    {
      "cell_type": "code",
      "metadata": {
        "id": "Qt1fj-rO2-Bq"
      },
      "source": [
        "def get_p_x_y(test_bow, char_prob):\n",
        "  p_x_y = 0\n",
        "  for i in range(len(test_bow)):\n",
        "    p_x_y += test_bow[i] * ln(char_prob[i])\n",
        "  return p_x_y\n"
      ],
      "execution_count": null,
      "outputs": []
    },
    {
      "cell_type": "code",
      "metadata": {
        "id": "0QgnYgpYALfL"
      },
      "source": [
        "p_x_y = {'e': get_p_x_y(test_bow, char_prob['e']),\n",
        "          'j': get_p_x_y(test_bow, char_prob['j']),\n",
        "          's': get_p_x_y(test_bow, char_prob['s'])}\n",
        "\n",
        "# char_prob_e"
      ],
      "execution_count": null,
      "outputs": []
    },
    {
      "cell_type": "code",
      "metadata": {
        "colab": {
          "base_uri": "https://localhost:8080/"
        },
        "id": "djhaggjXWz3g",
        "outputId": "4aa9df0c-919d-4936-c7a9-0f8713ad5c20"
      },
      "source": [
        "p_x_y"
      ],
      "execution_count": null,
      "outputs": [
        {
          "output_type": "execute_result",
          "data": {
            "text/plain": [
              "{'e': -7841.865447060635, 'j': -8771.433079075032, 's': -8467.282044010557}"
            ]
          },
          "metadata": {},
          "execution_count": 23
        }
      ]
    },
    {
      "cell_type": "code",
      "metadata": {
        "id": "40IqFFWzApdV"
      },
      "source": [
        "def classify(p_x_y, prior):\n",
        "  posterior = dict.fromkeys(prior, 0)\n",
        "\n",
        "  for label in prior:\n",
        "    posterior[label] = p_x_y[label] + ln(prior[label])\n",
        "\n",
        "  print(posterior)\n",
        "\n",
        "  return max(posterior.items(), key = lambda k : k[1])[0]"
      ],
      "execution_count": null,
      "outputs": []
    },
    {
      "cell_type": "code",
      "metadata": {
        "colab": {
          "base_uri": "https://localhost:8080/",
          "height": 55
        },
        "id": "hDnDX2S7E8QO",
        "outputId": "90ef4431-86ff-47aa-bb64-1dc69450fe67"
      },
      "source": [
        "classify(p_x_y, prior)"
      ],
      "execution_count": null,
      "outputs": [
        {
          "output_type": "stream",
          "name": "stdout",
          "text": [
            "{'e': -7842.964059349303, 'j': -8772.5316913637, 's': -8468.380656299225}\n"
          ]
        },
        {
          "output_type": "execute_result",
          "data": {
            "application/vnd.google.colaboratory.intrinsic+json": {
              "type": "string"
            },
            "text/plain": [
              "'e'"
            ]
          },
          "metadata": {},
          "execution_count": 25
        }
      ]
    },
    {
      "cell_type": "code",
      "metadata": {
        "colab": {
          "base_uri": "https://localhost:8080/"
        },
        "id": "xYjyJjwbGYeU",
        "outputId": "9d867a29-5488-48ef-ad1e-7c9c653f3103"
      },
      "source": [
        "#Test on all files from 10.txt to 19.txt\n",
        "\n",
        "y_true = []\n",
        "y_pred = []\n",
        "\n",
        "files = os.listdir(base_path)\n",
        "for f in files:\n",
        "  if int(f.split('.')[0][1:]) >= 10:\n",
        "    test_bow = create_bow(base_path + f)\n",
        "    y_true.append(f[0])\n",
        "\n",
        "    p_x_y = {'e': get_p_x_y(test_bow, char_prob['e']),\n",
        "          'j': get_p_x_y(test_bow, char_prob['j']),\n",
        "          's': get_p_x_y(test_bow, char_prob['s'])}\n",
        "\n",
        "    \n",
        "    y_pred.append(classify(p_x_y, prior))\n",
        "\n",
        "\n",
        "\n",
        "\n",
        "\n",
        "\n"
      ],
      "execution_count": null,
      "outputs": [
        {
          "output_type": "stream",
          "name": "stdout",
          "text": [
            "{'e': -4599.349605534324, 'j': -5079.4882017602695, 's': -4865.272074018617}\n",
            "{'e': -4684.1379270533025, 'j': -5182.575715091949, 's': -5048.823878903409}\n",
            "{'e': -4743.852115829975, 'j': -5183.231961072002, 's': -5179.762032865238}\n",
            "{'e': -6880.853983590577, 'j': -7610.86481136972, 's': -7356.973075930628}\n",
            "{'e': -1656.9553541936987, 'j': -1818.3565442184502, 's': -1736.697003246394}\n",
            "{'e': -7679.948367379369, 'j': -8632.830881322532, 's': -8290.375532297925}\n",
            "{'e': -9347.310487347908, 'j': -10408.382445479408, 's': -10057.350726185592}\n",
            "{'e': -7842.964059349303, 'j': -8772.5316913637, 's': -8468.380656299225}\n",
            "{'e': -4601.337546825696, 'j': -5035.050435035467, 's': -4961.611794816845}\n",
            "{'e': -5286.589067292361, 'j': -5837.4614104480725, 's': -5682.192323138697}\n",
            "{'e': -4806.891638181592, 'j': -4368.89042253691, 's': -5256.873411735181}\n",
            "{'e': -4827.639396231296, 'j': -4336.765401209866, 's': -5296.614149031251}\n",
            "{'e': -4439.149033750644, 'j': -3993.345452486159, 's': -4848.961801618616}\n",
            "{'e': -3823.449106062089, 'j': -3440.1397933299395, 's': -4176.7072236079675}\n",
            "{'e': -3855.3547243138123, 'j': -3539.5781224678676, 's': -4211.1837184925525}\n",
            "{'e': -4274.407807229267, 'j': -3877.8313069147093, 's': -4582.93549157793}\n",
            "{'e': -4544.34814708831, 'j': -4133.8787090662245, 's': -5005.048531906131}\n",
            "{'e': -4305.168561788889, 'j': -3829.8958844279905, 's': -4707.027675226486}\n",
            "{'e': -4599.9474606098765, 'j': -4107.337239663867, 's': -5053.188487273616}\n",
            "{'e': -4937.7991901192745, 'j': -4378.6596573223715, 's': -5344.818784811843}\n",
            "{'e': -5307.58376705518, 'j': -5863.681049068628, 's': -5042.73709423128}\n",
            "{'e': -4810.892865147412, 'j': -5341.757366825422, 's': -4578.054088169204}\n",
            "{'e': -4433.628971184031, 'j': -4998.509281576114, 's': -4238.140906214268}\n",
            "{'e': -3374.517725851262, 'j': -3745.2335894210914, 's': -3203.8846592408627}\n",
            "{'e': -5520.635263592994, 'j': -6167.587962353716, 's': -5279.898264235052}\n",
            "{'e': -5744.264952619848, 'j': -6277.952657548027, 's': -5507.852584608343}\n",
            "{'e': -5137.087496796142, 'j': -5699.82547023216, 's': -4919.912361437022}\n",
            "{'e': -2804.740629899459, 'j': -3136.643238357222, 's': -2669.484389267791}\n",
            "{'e': -4970.176650721754, 'j': -5577.038321635797, 's': -4714.750385340546}\n",
            "{'e': -1798.2930983707208, 'j': -2030.0857531899817, 's': -1691.5737562479405}\n"
          ]
        }
      ]
    },
    {
      "cell_type": "code",
      "metadata": {
        "colab": {
          "base_uri": "https://localhost:8080/"
        },
        "id": "kO9H5oYQJ-9K",
        "outputId": "4e0f3fe7-1674-4643-ae35-dfda2b84de6f"
      },
      "source": [
        "confusion_matrix(y_true, y_pred, labels=['e','j','s'])"
      ],
      "execution_count": null,
      "outputs": [
        {
          "output_type": "execute_result",
          "data": {
            "text/plain": [
              "array([[10,  0,  0],\n",
              "       [ 0, 10,  0],\n",
              "       [ 0,  0, 10]])"
            ]
          },
          "metadata": {},
          "execution_count": 27
        }
      ]
    },
    {
      "cell_type": "markdown",
      "metadata": {
        "id": "acOKQxN10o7p"
      },
      "source": [
        "# Numpy Implementation"
      ]
    },
    {
      "cell_type": "code",
      "metadata": {
        "id": "eT-3NtThk7Bu"
      },
      "source": [
        "import torch"
      ],
      "execution_count": null,
      "outputs": []
    },
    {
      "cell_type": "code",
      "metadata": {
        "id": "Hzyc1OXhpr-B"
      },
      "source": [
        "mnist_train_path = './drive/MyDrive/Colab Notebooks/Data/ML/HW4/mnist_train.csv'\n",
        "mnist_test_path = './drive/MyDrive/Colab Notebooks/Data/ML/HW4/mnist_test.csv'\n",
        "\n",
        "train_data = np.loadtxt(mnist_train_path, \n",
        "                        delimiter=\",\")\n",
        "test_data = np.loadtxt(mnist_test_path, \n",
        "                       delimiter=\",\") \n",
        "\n",
        "train_data = train_data[:10000]\n",
        "test_data = test_data[:2000]"
      ],
      "execution_count": null,
      "outputs": []
    },
    {
      "cell_type": "code",
      "metadata": {
        "id": "ImXXm37enAWn"
      },
      "source": [
        "\n",
        "\n",
        "class Layer:\n",
        "    def __init__(self, n_inputs, n_neurons):\n",
        "        self.weights = np.random.uniform( low = (-1/math.sqrt(784)) , high = 1/math.sqrt(784), size = (n_inputs, n_neurons))\n",
        "        # self.weights = np.zeros((n_inputs, n_neurons))\n",
        "        # self.weights = np.random.uniform(-1,1, size = (n_inputs, n_neurons) )\n",
        "        # self.biases = np.random.uniform(0,1, size=(1, n_neurons))\n",
        "    def forward(self, inputs):\n",
        "        self.output = np.dot(inputs, self.weights)\n",
        "\n",
        "\n",
        "class Activation_Sigmoid:\n",
        "    def forward(self, inputs):\n",
        "        self.output = 1.0/(1 + np.exp(-inputs))\n",
        "\n",
        "class Activation_Softmax:\n",
        "    def forward(self, inputs):\n",
        "        exp_values = np.exp(inputs)\n",
        "        probabilities = exp_values / np.sum(exp_values)\n",
        "        self.output = probabilities\n",
        "\n",
        "\n",
        "X , y = train_data[:, 1:] , train_data[:, 0]\n",
        "# X = np.append(X,np.ones([len(X), 1]), axis = 1) #for bias\n",
        "\n",
        "\n"
      ],
      "execution_count": null,
      "outputs": []
    },
    {
      "cell_type": "code",
      "metadata": {
        "id": "E2j3ReJ4qgEL"
      },
      "source": [
        "h_layer = Layer(len(X[0]),300)\n",
        "activation1 = Activation_Sigmoid()\n",
        "\n",
        "o_layer = Layer(300, 10)\n",
        "activation2 = Activation_Softmax()\n",
        "\n",
        "alpha = 0.01\n",
        "# print(h_layer.weights.shape)\n",
        "wrong = 0\n",
        "x = range(50)\n",
        "y_loss = []\n",
        "for j in range(50) :\n",
        "  log_loss = []\n",
        "  for i in range(len(X)):\n",
        "\n",
        "    #Forward prop\n",
        "    h_layer.forward(X[i])\n",
        "    Z1 = h_layer.output\n",
        "    activation1.forward(h_layer.output)\n",
        "    A1 = activation1.output\n",
        "\n",
        "    o_layer.forward(activation1.output)\n",
        "    Z2 = o_layer.output\n",
        "    activation2.forward(o_layer.output)\n",
        "    A2 = activation2.output\n",
        "\n",
        "    #Backward Prop \n",
        "\n",
        "    y_one_hot = [0] * 10\n",
        "    y_one_hot[int(y[i])] = 1\n",
        "\n",
        "    dZ2= A2 - y_one_hot\n",
        "    dW2 = np.zeros_like(o_layer.weights)\n",
        "    dW2 = A1.reshape((-1, 1)).dot(dZ2.reshape((-1, 1)).T)\n",
        "    # dB2 = np.sum(dZ2)\n",
        "    \n",
        "    dW1 = np.zeros_like(h_layer.weights)\n",
        "    dZ1 = o_layer.weights.dot(dZ2.reshape(-1,1))* np.matmul(activation1.output ,( 1 - activation1.output))\n",
        "    dW1 = X[i].reshape(-1,1).dot(dZ1.T)\n",
        "    # dB1 = np.sum(dZ1)\n",
        "    # print(dW1.shape)\n",
        "    # break\n",
        "\n",
        "\n",
        "    #update parameters \n",
        "    o_layer.weights -= alpha * dW2\n",
        "    # o_layer.biases -= alpha * dB2\n",
        "    h_layer.weights -= alpha * dW1\n",
        "    # h_layer.biases -= alpha * dB1\n",
        "    y_pred = np.argmax(A2, 0)\n",
        "\n",
        "    if y_pred != y[i]:\n",
        "      wrong += 1\n",
        "\n",
        "    if i % 100 == 0:\n",
        "      print('Wrong: ' + str(wrong))\n",
        "      wrong = 0\n",
        "\n",
        "    log_loss.append(-np.log(A2[int(y[i])]))\n",
        "  y_loss.append(np.mean(log_loss))\n",
        "  log_loss = []\n"
      ],
      "execution_count": null,
      "outputs": []
    },
    {
      "cell_type": "code",
      "metadata": {
        "colab": {
          "base_uri": "https://localhost:8080/",
          "height": 298
        },
        "id": "tfiJjiaJCbWR",
        "outputId": "91d62047-f7c6-47cb-f235-50c65b2d3410"
      },
      "source": [
        "import matplotlib.pyplot as plt \n",
        "x = range(len(y_loss))\n",
        "plt.plot(x,y_loss)\n",
        "plt.xlabel(\"Epochs\")\n",
        "plt.ylabel(\"Loss\")"
      ],
      "execution_count": null,
      "outputs": [
        {
          "output_type": "execute_result",
          "data": {
            "text/plain": [
              "Text(0, 0.5, 'Loss')"
            ]
          },
          "metadata": {},
          "execution_count": 45
        },
        {
          "output_type": "display_data",
          "data": {
            "image/png": "[encoded data removed]",
            "text/plain": [
              "<Figure size 432x288 with 1 Axes>"
            ]
          },
          "metadata": {
            "needs_background": "light"
          }
        }
      ]
    },
    {
      "cell_type": "code",
      "metadata": {
        "colab": {
          "base_uri": "https://localhost:8080/"
        },
        "id": "79foGb7mMKf4",
        "outputId": "03185325-26f7-41df-e763-17741496ce9f"
      },
      "source": [
        "# len(test_data)\n",
        "X_t , y_t = test_data[:, 1:] , test_data[:, 0]\n",
        "true_pred = 0\n",
        "print(len(X_t))\n",
        "for i in range(len(X_t)):\n",
        "    #Forward prop\n",
        "    h_layer.forward(X_t[i])\n",
        "    Z1 = h_layer.output\n",
        "    activation1.forward(h_layer.output)\n",
        "    A1 = activation1.output\n",
        "\n",
        "    o_layer.forward(activation1.output)\n",
        "    Z2 = o_layer.output\n",
        "    activation2.forward(o_layer.output)\n",
        "    A2 = activation2.output\n",
        "\n",
        "    y_pred = np.argmax(A2, 0)\n",
        "    # print('Pred :' + str(y_pred))\n",
        "    # print('Truth :' + str(y[i]))\n",
        "    # break\n",
        "    if y_pred == y_t[i]:\n",
        "      true_pred += 1\n",
        "\n",
        "print(true_pred/len(y_t))"
      ],
      "execution_count": null,
      "outputs": [
        {
          "output_type": "stream",
          "name": "stdout",
          "text": [
            "2000\n"
          ]
        },
        {
          "output_type": "stream",
          "name": "stderr",
          "text": [
            "/usr/local/lib/python3.7/dist-packages/ipykernel_launcher.py:15: RuntimeWarning: overflow encountered in exp\n",
            "  from ipykernel import kernelapp as app\n"
          ]
        },
        {
          "output_type": "stream",
          "name": "stdout",
          "text": [
            "0.8525\n"
          ]
        }
      ]
    },
    {
      "cell_type": "markdown",
      "metadata": {
        "id": "lw2NbBgM0z6n"
      },
      "source": [
        "# Pytorch Implementation"
      ]
    },
    {
      "cell_type": "code",
      "metadata": {
        "id": "Nm8Ptyl_z3mM"
      },
      "source": [
        "import torch\n",
        "import torchvision\n",
        "from torchvision import transforms, datasets\n",
        "import itertools\n",
        "import torch.nn as nn\n",
        "import torch.nn.functional as F\n",
        "import torch.optim as optim"
      ],
      "execution_count": null,
      "outputs": []
    },
    {
      "cell_type": "code",
      "metadata": {
        "id": "aRxHMUuNz-8n"
      },
      "source": [
        "train = datasets.MNIST('', train=True, download=True,\n",
        "                       transform=transforms.Compose([\n",
        "                           transforms.ToTensor()\n",
        "                       ]))\n",
        "\n",
        "test = datasets.MNIST('', train=False, download=True,\n",
        "                       transform=transforms.Compose([\n",
        "                           transforms.ToTensor()\n",
        "                       ]))"
      ],
      "execution_count": null,
      "outputs": []
    },
    {
      "cell_type": "code",
      "metadata": {
        "id": "Q6Gw96I80BX4"
      },
      "source": [
        "trainset = torch.utils.data.DataLoader(train, batch_size=32, shuffle=True)\n",
        "testset = torch.utils.data.DataLoader(test, batch_size=32, shuffle=False)"
      ],
      "execution_count": null,
      "outputs": []
    },
    {
      "cell_type": "code",
      "metadata": {
        "id": "BNPMIi3e0DPJ"
      },
      "source": [
        "for data in trainset:\n",
        "    print(data)\n",
        "    break"
      ],
      "execution_count": null,
      "outputs": []
    },
    {
      "cell_type": "code",
      "metadata": {
        "id": "FLSEjuNG0JOm"
      },
      "source": [
        "class Net(nn.Module):\n",
        "    def __init__(self):\n",
        "        super().__init__()\n",
        "        self.fc1 = nn.Linear(28*28, 300, bias=False)\n",
        "        self.fc2 = nn.Linear(300, 10, bias=False)\n",
        "\n",
        "    def forward(self, x):\n",
        "        x = torch.sigmoid(self.fc1(x))\n",
        "        x = self.fc2(x)\n",
        "        return F.log_softmax(x, dim=1)\n"
      ],
      "execution_count": null,
      "outputs": []
    },
    {
      "cell_type": "code",
      "metadata": {
        "id": "o7-LvENE0LX-"
      },
      "source": [
        "net = Net()\n",
        "net.fc1.weight.data.fill_(0)\n",
        "net.fc2.weight.data.fill_(0)\n",
        "optimizer = optim.SGD(net.parameters(), lr=0.01)\n",
        "x = range(100)\n",
        "y_loss = [] #loss\n",
        "# \n",
        "epoch_loss = []\n",
        "for epoch in range(50): \n",
        "  print(\"Epoch :\" + str(epoch))\n",
        "  for data in itertools.islice(trainset, 10000):  \n",
        "    X, y = data  \n",
        "    net.zero_grad()\n",
        "    output = net(X.view(-1,784))  \n",
        "    # print(output)\n",
        "    # print(y)\n",
        "    # break\n",
        "    loss = F.nll_loss(output, y)  \n",
        "    loss.backward()  \n",
        "    optimizer.step() \n",
        "    y_loss.append(loss.item())\n",
        "  epoch_loss.append(np.mean(y_loss))\n",
        "  y_loss = []\n",
        "  print(\"Loss :\" + str(epoch_loss[-1]))"
      ],
      "execution_count": null,
      "outputs": []
    },
    {
      "cell_type": "code",
      "metadata": {
        "id": "q1R_x3DL0Ox8"
      },
      "source": [
        "correct = 0\n",
        "total = 0\n",
        "\n",
        "with torch.no_grad():\n",
        "    for data in testset:\n",
        "        X, y = data\n",
        "        output = net(X.view(-1,784))\n",
        "        #print(output)\n",
        "        for idx, i in enumerate(output):\n",
        "            #print(torch.argmax(i), y[idx])\n",
        "            if torch.argmax(i) == y[idx]:\n",
        "                correct += 1\n",
        "            total += 1\n",
        "\n",
        "print(\"Accuracy: \", round(correct/total, 3))"
      ],
      "execution_count": null,
      "outputs": []
    },
    {
      "cell_type": "code",
      "metadata": {
        "id": "XwWCtJd50Q1S"
      },
      "source": [
        "x = range(0,len(epoch_loss) )\n",
        "epoch_loss_t = epoch_loss\n",
        "plt.plot(x,epoch_loss_t)\n",
        "plt.xlabel(\"Epochs\")\n",
        "plt.ylabel(\"Loss\")"
      ],
      "execution_count": null,
      "outputs": []
    }
  ]
}